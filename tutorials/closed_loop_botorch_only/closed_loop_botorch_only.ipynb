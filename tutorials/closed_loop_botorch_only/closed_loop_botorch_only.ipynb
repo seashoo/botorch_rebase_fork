{
  "cells": [
    {
      "cell_type": "markdown",
      "metadata": {
        "originalKey": "00018e33-90ca-4f63-b741-fe1fd43ca7db",
        "showInput": false
      },
      "source": [
        "## Closed-loop batch, constrained BO in BoTorch with qLogEI and qLogNEI\n",
        "\n",
        "In this tutorial, we illustrate how to implement a simple Bayesian Optimization (BO) closed loop in BoTorch.\n",
        "\n",
        "In general, we recommend for a relatively simple setup (like this one) to use Ax, since this will simplify your setup (including the amount of code you need to write) considerably. See Ax's [Modular BoTorch tutorial](https://ax.dev/docs/tutorials/modular_botorch/) tutorial.\n",
        "\n",
        "However, you may want to do things that are not easily supported in Ax at this time (like running high-dimensional BO using a VAE+GP model that you jointly train on high-dimensional input data). If you find yourself in such a situation, you will need to write your own optimization loop, as we do in this tutorial.\n",
        "\n",
        "\n",
        "We use the batch Log Expected Improvement (`qLogEI`) and batch Noisy Expected Improvement (`qLogNEI`) acquisition functions to optimize a constrained version of the synthetic Hartmann6 test function. The standard problem is\n",
        "\n",
        "$$f(x) = -\\sum_{i=1}^4 \\alpha_i \\exp \\left( -\\sum_{j=1}^6 A_{ij} (x_j - P_{ij})^2  \\right)$$\n",
        "\n",
        "over $x \\in [0,1]^6$ (parameter values can be found in `botorch/test_functions/hartmann6.py`).\n",
        "\n",
        "In real BO applications, the design $x$ can influence multiple metrics in unknown ways, and the decision-maker often wants to optimize one metric without sacrificing another. To illustrate this, we add a synthetic constraint of the form $\\|x\\|_1 - 3 \\le 0$. Both the objective and the constraint are observed with noise. \n",
        "\n",
        "Since botorch assumes a maximization problem, we will attempt to maximize $-f(x)$ to achieve $\\max_{x} -f(x) = 3.32237$."
      ]
    },
    {
      "cell_type": "code",
      "execution_count": null,
      "metadata": {},
      "outputs": [],
      "source": [
        "# Install dependencies if we are running in colab\n",
        "import sys\n",
        "if 'google.colab' in sys.modules:\n",
        "    %pip install botorch"
      ]
    },
    {
      "cell_type": "code",
      "execution_count": 14,
      "metadata": {
        "collapsed": false,
        "customOutput": null,
        "executionStartTime": 1668649987115,
        "executionStopTime": 1668649987899,
        "originalKey": "2c0bfbc7-7e42-4601-83ed-4a77270803a8",
        "requestMsgId": "18ccce84-9f39-4c3d-89b1-1e9ed2540859"
      },
      "outputs": [],
      "source": [
        "import os\n",
        "from typing import Optional\n",
        "\n",
        "import torch\n",
        "\n",
        "device = torch.device(\"cuda\" if torch.cuda.is_available() else \"cpu\")\n",
        "dtype = torch.double\n",
        "SMOKE_TEST = os.environ.get(\"SMOKE_TEST\")"
      ]
    },
    {
      "cell_type": "markdown",
      "metadata": {
        "originalKey": "4ba4e568-0ef2-430e-aecb-dae8889d6664",
        "showInput": false
      },
      "source": [
        "### Problem setup\n",
        "\n",
        "First, we define the constraint used in the example in `outcome_constraint`. The second function `weighted_obj` is a \"feasibility-weighted objective,\" which returns zero when not feasible. "
      ]
    },
    {
      "cell_type": "code",
      "execution_count": 15,
      "metadata": {
        "collapsed": false,
        "customOutput": null,
        "executionStartTime": 1668649988205,
        "executionStopTime": 1668649988602,
        "originalKey": "b1c9de4d-a7ba-4782-ab68-2def8b562f7b",
        "output": {
          "id": 364616190032149,
          "loadingStatus": "loaded"
        },
        "requestMsgId": "96673081-cc25-4ca0-a40d-48756fde8647"
      },
      "outputs": [],
      "source": [
        "from botorch.test_functions import Hartmann\n",
        "\n",
        "\n",
        "neg_hartmann6 = Hartmann(negate=True).to(device=device)\n",
        "\n",
        "\n",
        "def outcome_constraint(X):\n",
        "    \"\"\"L1 constraint; feasible if less than or equal to zero.\"\"\"\n",
        "    return X.sum(dim=-1) - 3\n",
        "\n",
        "\n",
        "def weighted_obj(X):\n",
        "    \"\"\"Feasibility weighted objective; zero if not feasible.\"\"\"\n",
        "    return neg_hartmann6(X) * (outcome_constraint(X) <= 0).type_as(X)"
      ]
    },
    {
      "cell_type": "markdown",
      "metadata": {
        "originalKey": "c262e98f-924d-414e-889f-7e65a37d3689",
        "showInput": false
      },
      "source": [
        "#### Model initialization\n",
        "\n",
        "We use a `ModelListGP` to model the objective (output 0) and the constraint (output 1). We assume known homoskedastic observation noise on both the objective and constraint with standard error $\\sigma = 0.5$. \n",
        "\n",
        "Each component is a `SingleTaskGP`. The models are initialized with 10 points drawn randomly from $[0,1]^6$."
      ]
    },
    {
      "cell_type": "code",
      "execution_count": 16,
      "metadata": {
        "collapsed": false,
        "customOutput": null,
        "executionStartTime": 1668649988934,
        "executionStopTime": 1668649992556,
        "originalKey": "41db1652-96c8-468d-9913-20a8e78f6fd6",
        "requestMsgId": "f83596cc-c30d-43ca-b9a1-fa3f5ad6b4ad"
      },
      "outputs": [],
      "source": [
        "from botorch.models.transforms.input import Normalize\n",
        "from botorch.models import SingleTaskGP, ModelListGP\n",
        "from gpytorch.mlls.sum_marginal_log_likelihood import SumMarginalLogLikelihood\n",
        "\n",
        "NOISE_SE = 0.25\n",
        "train_yvar = torch.tensor(NOISE_SE**2, device=device, dtype=dtype)\n",
        "\n",
        "\n",
        "def generate_initial_data(n=10):\n",
        "    # generate training data\n",
        "    train_x = torch.rand(10, 6, device=device, dtype=dtype)\n",
        "    exact_obj = neg_hartmann6(train_x).unsqueeze(-1)  # add output dimension\n",
        "    exact_con = outcome_constraint(train_x).unsqueeze(-1)  # add output dimension\n",
        "    train_obj = exact_obj + NOISE_SE * torch.randn_like(exact_obj)\n",
        "    train_con = exact_con + NOISE_SE * torch.randn_like(exact_con)\n",
        "    best_observed_value = weighted_obj(train_x).max().item()\n",
        "    return train_x, train_obj, train_con, best_observed_value\n",
        "\n",
        "\n",
        "def initialize_model(train_x, train_obj, train_con, state_dict=None):\n",
        "    # define models for objective and constraint\n",
        "    model_obj = SingleTaskGP(\n",
        "        train_x,\n",
        "        train_obj,\n",
        "        train_yvar.expand_as(train_obj),\n",
        "        input_transform=Normalize(d=train_x.shape[-1]),\n",
        "    ).to(train_x)\n",
        "    model_con = SingleTaskGP(\n",
        "        train_x,\n",
        "        train_con,\n",
        "        train_yvar.expand_as(train_con),\n",
        "        input_transform=Normalize(d=train_x.shape[-1]),\n",
        "    ).to(train_x)\n",
        "    # combine into a multi-output GP model\n",
        "    model = ModelListGP(model_obj, model_con)\n",
        "    mll = SumMarginalLogLikelihood(model.likelihood, model)\n",
        "    # load state dict if it is passed\n",
        "    if state_dict is not None:\n",
        "        model.load_state_dict(state_dict)\n",
        "    return mll, model"
      ]
    },
    {
      "cell_type": "markdown",
      "metadata": {
        "originalKey": "c34aa925-9abd-4bf2-9f1f-a4795be57b3b",
        "showInput": false
      },
      "source": [
        "#### Define a construct to extract the objective and constraint from the GP\n",
        "The methods below take the outputs of the GP and return the objective and the constraint. In general, these can be any `Callable`, but here we simply need to index the correct output."
      ]
    },
    {
      "cell_type": "code",
      "execution_count": 17,
      "metadata": {
        "collapsed": false,
        "customOutput": null,
        "executionStartTime": 1668649992926,
        "executionStopTime": 1668649993022,
        "originalKey": "6af5d96a-1b65-4551-bf7d-b125f9749c63",
        "requestMsgId": "ba2d1a49-04d4-4b3e-85ef-f40a51ed3945"
      },
      "outputs": [],
      "source": [
        "from botorch.acquisition.objective import GenericMCObjective\n",
        "\n",
        "def obj_callable(Z: torch.Tensor, X: Optional[torch.Tensor] = None):\n",
        "    return Z[..., 0]\n",
        "\n",
        "\n",
        "def constraint_callable(Z):\n",
        "    return Z[..., 1]\n",
        "\n",
        "\n",
        "objective = GenericMCObjective(objective=obj_callable)"
      ]
    },
    {
      "cell_type": "markdown",
      "metadata": {
        "originalKey": "e45f8a78-36e4-4692-9ce3-7e883f7780cb",
        "showInput": false
      },
      "source": [
        "#### Define a helper function that performs the essential BO step\n",
        "The helper function below takes an acquisition function as an argument, optimizes it, and returns the batch $\\{x_1, x_2, \\ldots x_q\\}$ along with the observed function values. For this example, we'll use a small batch of $q=3$. The function `optimize_acqf` optimizes the $q$ points jointly. A simple initialization heuristic is used to select the 10 restart initial locations from a set of 50 random points. "
      ]
    },
    {
      "cell_type": "code",
      "execution_count": 18,
      "metadata": {
        "collapsed": false,
        "customOutput": null,
        "executionStartTime": 1668649993442,
        "executionStopTime": 1668649993515,
        "originalKey": "f450c171-6984-4114-bf99-99c3a4e68eb2",
        "output": {
          "id": 385726674337920,
          "loadingStatus": "loaded"
        },
        "requestMsgId": "57d29886-0a14-410b-aaba-596c8559f5a0"
      },
      "outputs": [],
      "source": [
        "from botorch.optim import optimize_acqf\n",
        "\n",
        "\n",
        "bounds = torch.tensor([[0.0] * 6, [1.0] * 6], device=device, dtype=dtype)\n",
        "\n",
        "BATCH_SIZE = 3 if not SMOKE_TEST else 2\n",
        "NUM_RESTARTS = 10 if not SMOKE_TEST else 2\n",
        "RAW_SAMPLES = 512 if not SMOKE_TEST else 32\n",
        "\n",
        "\n",
        "def optimize_acqf_and_get_observation(acq_func):\n",
        "    \"\"\"Optimizes the acquisition function, and returns a new candidate and a noisy observation.\"\"\"\n",
        "    # optimize\n",
        "    candidates, _ = optimize_acqf(\n",
        "        acq_function=acq_func,\n",
        "        bounds=bounds,\n",
        "        q=BATCH_SIZE,\n",
        "        num_restarts=NUM_RESTARTS,\n",
        "        raw_samples=RAW_SAMPLES,  # used for intialization heuristic\n",
        "        options={\"batch_limit\": 5, \"maxiter\": 200},\n",
        "    )\n",
        "    # observe new values\n",
        "    new_x = candidates.detach()\n",
        "    exact_obj = neg_hartmann6(new_x).unsqueeze(-1)  # add output dimension\n",
        "    exact_con = outcome_constraint(new_x).unsqueeze(-1)  # add output dimension\n",
        "    new_obj = exact_obj + NOISE_SE * torch.randn_like(exact_obj)\n",
        "    new_con = exact_con + NOISE_SE * torch.randn_like(exact_con)\n",
        "    return new_x, new_obj, new_con\n",
        "\n",
        "\n",
        "def update_random_observations(best_random):\n",
        "    \"\"\"Simulates a random policy by taking a the current list of best values observed randomly,\n",
        "    drawing a new random point, observing its value, and updating the list.\n",
        "    \"\"\"\n",
        "    rand_x = torch.rand(BATCH_SIZE, 6, device=device)\n",
        "    next_random_best = weighted_obj(rand_x).max().item()\n",
        "    best_random.append(max(best_random[-1], next_random_best))\n",
        "    return best_random"
      ]
    },
    {
      "cell_type": "markdown",
      "metadata": {
        "originalKey": "b9344aeb-149e-46a5-9c17-dfbd9ae4727c",
        "showInput": false
      },
      "source": [
        "### Perform Bayesian Optimization loop with qLogNEI\n",
        "The Bayesian optimization \"loop\" for a batch size of $q$ simply iterates the following steps:\n",
        "1. given a surrogate model, choose a batch of points $\\{x_1, x_2, \\ldots x_q\\}$\n",
        "2. observe $f(x)$ for each $x$ in the batch \n",
        "3. update the surrogate model. \n",
        "\n",
        "\n",
        "Just for illustration purposes, we run three trials each of which do `N_BATCH=20` rounds of optimization. The acquisition function is approximated using `MC_SAMPLES=256` samples.\n",
        "\n",
        "*Note*: Running this may take a little while."
      ]
    },
    {
      "cell_type": "code",
      "execution_count": 19,
      "metadata": {
        "collapsed": false,
        "customOutput": null,
        "executionStartTime": 1668649993811,
        "executionStopTime": 1668650936026,
        "originalKey": "f137bf2a-5d39-4c8c-bb24-84326d4ab5d7",
        "requestMsgId": "0b4d1d37-a9cf-4f69-a896-0836506ee521"
      },
      "outputs": [
        {
          "name": "stdout",
          "output_type": "stream",
          "text": [
            "\n",
            "Trial  1 of 3 ....................\n",
            "Trial  2 of 3 ....................\n",
            "Trial  3 of 3 ...................."
          ]
        }
      ],
      "source": [
        "import time\n",
        "import warnings\n",
        "\n",
        "from botorch import fit_gpytorch_mll\n",
        "from botorch.acquisition import (\n",
        "    qLogExpectedImprovement,\n",
        "    qLogNoisyExpectedImprovement,\n",
        ")\n",
        "from botorch.exceptions import BadInitialCandidatesWarning\n",
        "from botorch.sampling.normal import SobolQMCNormalSampler\n",
        "\n",
        "\n",
        "warnings.filterwarnings(\"ignore\", category=BadInitialCandidatesWarning)\n",
        "warnings.filterwarnings(\"ignore\", category=RuntimeWarning)\n",
        "\n",
        "\n",
        "N_TRIALS = 3 if not SMOKE_TEST else 2\n",
        "N_BATCH = 20 if not SMOKE_TEST else 2\n",
        "MC_SAMPLES = 256 if not SMOKE_TEST else 32\n",
        "\n",
        "verbose = False\n",
        "\n",
        "best_observed_all_ei, best_observed_all_nei, best_random_all = [], [], []\n",
        "\n",
        "# average over multiple trials\n",
        "for trial in range(1, N_TRIALS + 1):\n",
        "\n",
        "    print(f\"\\nTrial {trial:>2} of {N_TRIALS} \", end=\"\")\n",
        "    best_observed_ei, best_observed_nei, best_random = [], [], []\n",
        "\n",
        "    # call helper functions to generate initial training data and initialize model\n",
        "    (\n",
        "        train_x_ei,\n",
        "        train_obj_ei,\n",
        "        train_con_ei,\n",
        "        best_observed_value_ei,\n",
        "    ) = generate_initial_data(n=10)\n",
        "    mll_ei, model_ei = initialize_model(train_x_ei, train_obj_ei, train_con_ei)\n",
        "\n",
        "    train_x_nei, train_obj_nei, train_con_nei = train_x_ei, train_obj_ei, train_con_ei\n",
        "    best_observed_value_nei = best_observed_value_ei\n",
        "    mll_nei, model_nei = initialize_model(train_x_nei, train_obj_nei, train_con_nei)\n",
        "\n",
        "    best_observed_ei.append(best_observed_value_ei)\n",
        "    best_observed_nei.append(best_observed_value_nei)\n",
        "    best_random.append(best_observed_value_ei)\n",
        "\n",
        "    # run N_BATCH rounds of BayesOpt after the initial random batch\n",
        "    for iteration in range(1, N_BATCH + 1):\n",
        "\n",
        "        t0 = time.monotonic()\n",
        "\n",
        "        # fit the models\n",
        "        fit_gpytorch_mll(mll_ei)\n",
        "        fit_gpytorch_mll(mll_nei)\n",
        "\n",
        "        # define the qEI and qNEI acquisition modules using a QMC sampler\n",
        "        qmc_sampler = SobolQMCNormalSampler(sample_shape=torch.Size([MC_SAMPLES]))\n",
        "\n",
        "        # for best_f, we use the best observed noisy values as an approximation\n",
        "        qLogEI = qLogExpectedImprovement(\n",
        "            model=model_ei,\n",
        "            best_f=(train_obj_ei * (train_con_ei <= 0).to(train_obj_ei)).max(),\n",
        "            sampler=qmc_sampler,\n",
        "            objective=objective,\n",
        "            constraints=[constraint_callable],\n",
        "        )\n",
        "\n",
        "        qLogNEI = qLogNoisyExpectedImprovement(\n",
        "            model=model_nei,\n",
        "            X_baseline=train_x_nei,\n",
        "            sampler=qmc_sampler,\n",
        "            objective=objective,\n",
        "            constraints=[constraint_callable],\n",
        "        )\n",
        "\n",
        "        # optimize and get new observation\n",
        "        new_x_ei, new_obj_ei, new_con_ei = optimize_acqf_and_get_observation(qLogEI)\n",
        "        new_x_nei, new_obj_nei, new_con_nei = optimize_acqf_and_get_observation(qLogNEI)\n",
        "\n",
        "        # update training points\n",
        "        train_x_ei = torch.cat([train_x_ei, new_x_ei])\n",
        "        train_obj_ei = torch.cat([train_obj_ei, new_obj_ei])\n",
        "        train_con_ei = torch.cat([train_con_ei, new_con_ei])\n",
        "\n",
        "        train_x_nei = torch.cat([train_x_nei, new_x_nei])\n",
        "        train_obj_nei = torch.cat([train_obj_nei, new_obj_nei])\n",
        "        train_con_nei = torch.cat([train_con_nei, new_con_nei])\n",
        "\n",
        "        # update progress\n",
        "        best_random = update_random_observations(best_random)\n",
        "        best_value_ei = weighted_obj(train_x_ei).max().item()\n",
        "        best_value_nei = weighted_obj(train_x_nei).max().item()\n",
        "        best_observed_ei.append(best_value_ei)\n",
        "        best_observed_nei.append(best_value_nei)\n",
        "\n",
        "        # reinitialize the models so they are ready for fitting on next iteration\n",
        "        # use the current state dict to speed up fitting\n",
        "        mll_ei, model_ei = initialize_model(\n",
        "            train_x_ei,\n",
        "            train_obj_ei,\n",
        "            train_con_ei,\n",
        "            model_ei.state_dict(),\n",
        "        )\n",
        "        mll_nei, model_nei = initialize_model(\n",
        "            train_x_nei,\n",
        "            train_obj_nei,\n",
        "            train_con_nei,\n",
        "            model_nei.state_dict(),\n",
        "        )\n",
        "\n",
        "        t1 = time.monotonic()\n",
        "\n",
        "        if verbose:\n",
        "            print(\n",
        "                f\"\\nBatch {iteration:>2}: best_value (random, qEI, qNEI) = \"\n",
        "                f\"({max(best_random):>4.2f}, {best_value_ei:>4.2f}, {best_value_nei:>4.2f}), \"\n",
        "                f\"time = {t1-t0:>4.2f}.\",\n",
        "                end=\"\",\n",
        "            )\n",
        "        else:\n",
        "            print(\".\", end=\"\")\n",
        "\n",
        "    best_observed_all_ei.append(best_observed_ei)\n",
        "    best_observed_all_nei.append(best_observed_nei)\n",
        "    best_random_all.append(best_random)"
      ]
    },
    {
      "cell_type": "markdown",
      "metadata": {
        "originalKey": "587be90e-69f5-4b33-ad40-1aafe38d305c",
        "showInput": false
      },
      "source": [
        "#### Plot the results\n",
        "The plot below shows the best objective value observed at each step of the optimization for each of the algorithms. The confidence intervals represent the variance at that step in the optimization across the trial runs. The variance across optimization runs is quite high, so in order to get a better estimate of the average performance one would have to run a much larger number of trials `N_TRIALS` (we avoid this here to limit the runtime of this tutorial). "
      ]
    },
    {
      "cell_type": "code",
      "execution_count": 20,
      "metadata": {
        "collapsed": false,
        "customOutput": null,
        "executionStartTime": 1668650936442,
        "executionStopTime": 1668650937028,
        "originalKey": "8729310f-7438-4d16-a2d5-5c46e5ef1c03",
        "output": {
          "id": 804722568408483,
          "loadingStatus": "loaded"
        },
        "requestMsgId": "3e10cd44-d4fa-4efc-941c-07dabdd6689c"
      },
      "outputs": [
        {
          "data": {
            "text/plain": [
              "<matplotlib.legend.Legend at 0x7fd6c7bbb910>"
            ]
          },
          "execution_count": 23,
          "metadata": {},
          "output_type": "execute_result"
        },
        {
          "data": {
            "image/png": "[encoded data removed]",
            "text/plain": [
              "<Figure size 800x600 with 1 Axes>"
            ]
          },
          "metadata": {},
          "output_type": "display_data"
        }
      ],
      "source": [
        "import numpy as np\n",
        "from matplotlib import pyplot as plt\n",
        "\n",
        "%matplotlib inline\n",
        "\n",
        "\n",
        "def ci(y):\n",
        "    return 1.96 * y.std(axis=0) / np.sqrt(N_TRIALS)\n",
        "\n",
        "\n",
        "GLOBAL_MAXIMUM = neg_hartmann6.optimal_value\n",
        "\n",
        "\n",
        "iters = np.arange(N_BATCH + 1) * BATCH_SIZE\n",
        "y_ei = np.asarray(best_observed_all_ei)\n",
        "y_nei = np.asarray(best_observed_all_nei)\n",
        "y_rnd = np.asarray(best_random_all)\n",
        "\n",
        "fig, ax = plt.subplots(1, 1, figsize=(8, 6))\n",
        "ax.errorbar(iters, y_rnd.mean(axis=0), yerr=ci(y_rnd), label=\"random\", linewidth=1.5)\n",
        "ax.errorbar(iters, y_ei.mean(axis=0), yerr=ci(y_ei), label=\"qLogEI\", linewidth=1.5)\n",
        "ax.errorbar(iters, y_nei.mean(axis=0), yerr=ci(y_nei), label=\"qLogNEI\", linewidth=1.5)\n",
        "plt.plot(\n",
        "    [0, N_BATCH * BATCH_SIZE],\n",
        "    [GLOBAL_MAXIMUM] * 2,\n",
        "    \"k\",\n",
        "    label=\"true best feasible objective\",\n",
        "    linewidth=2,\n",
        ")\n",
        "ax.set_ylim(bottom=0.5)\n",
        "ax.set(\n",
        "    xlabel=\"number of observations (beyond initial points)\",\n",
        "    ylabel=\"best objective value\",\n",
        ")\n",
        "ax.legend(loc=\"lower right\")"
      ]
    }
  ],
  "metadata": {
    "custom": {
      "cells": [],
      "metadata": {
        "fileHeader": "",
        "fileUid": "a216a2b6-1888-4ff1-84ca-31580b9528bd",
        "isAdHoc": false,
        "kernelspec": {
          "display_name": "python3",
          "language": "python",
          "name": "python3"
        },
        "language_info": {
          "codemirror_mode": {
            "name": "ipython",
            "version": 3
          },
          "file_extension": ".py",
          "mimetype": "text/x-python",
          "name": "python",
          "nbconvert_exporter": "python",
          "pygments_lexer": "ipython3",
          "version": "3.8.5"
        }
      },
      "nbformat": 4,
      "nbformat_minor": 2
    },
    "fileHeader": "",
    "fileUid": "17f3c41e-9658-4418-854a-cdfccadfcb1d",
    "indentAmount": 2,
    "isAdHoc": false,
    "kernelspec": {
      "display_name": "python3",
      "language": "python",
      "name": "python3"
    }
  },
  "nbformat": 4,
  "nbformat_minor": 2
}
